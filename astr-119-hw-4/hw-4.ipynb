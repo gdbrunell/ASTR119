{
 "cells": [
  {
   "cell_type": "markdown",
   "id": "7c131147",
   "metadata": {},
   "source": [
    "## Setup"
   ]
  },
  {
   "cell_type": "code",
   "execution_count": null,
   "id": "ba89b14e",
   "metadata": {},
   "outputs": [],
   "source": [
    "# imports\n",
    "import numpy as np\n",
    "import matplotlib.pyplot as plt"
   ]
  },
  {
   "cell_type": "markdown",
   "id": "f7abcc85",
   "metadata": {},
   "source": [
    "## Bisection Search Root Finding"
   ]
  },
  {
   "cell_type": "code",
   "execution_count": null,
   "id": "4811bf16",
   "metadata": {},
   "outputs": [],
   "source": [
    "# f is the function\n",
    "# a is the upper integration bound\n",
    "# b is the lower integration bound\n",
    "# tol is the tolerance in the rage of f(x) = 0\n",
    "def bisection_method(f, a, b, tol, show_iterations = False):\n",
    "    if f(a) * f(b) >= 0:\n",
    "        print(\"Root does not exist in specified interval\")\n",
    "        return  # bisection method does not work if product of two points of a function is > or = 0\n",
    "    else: # if product of two points of function < 0, then bisection search can commence\n",
    "        est_roots = [a, b]\n",
    "        count = 0\n",
    "        while True:\n",
    "            # c should be the root between a and b\n",
    "            c = (a + b) / 2\n",
    "            est_roots.append(c)\n",
    "            # c is not the root if it lies outside of the tolerance\n",
    "            if abs(f(c)) <= tol:\n",
    "                break\n",
    "            if f(a) * f(c) < 0:\n",
    "                b = c\n",
    "            else:\n",
    "                a = c\n",
    "            count += 1\n",
    "        # will display the number of iterations if the root is found\n",
    "        if show_iterations:\n",
    "            print(f\"Number of Iterations: {count}\")\n",
    "            print(f\"x = {c}\")\n",
    "            return est_roots\n",
    "        else:\n",
    "            print(f\"x = {c}\")"
   ]
  },
  {
   "cell_type": "markdown",
   "id": "18fd0418",
   "metadata": {},
   "source": [
    "## Finding the Roots"
   ]
  },
  {
   "cell_type": "code",
   "execution_count": null,
   "id": "57b8258e",
   "metadata": {},
   "outputs": [],
   "source": [
    "# defines the function that we will search for roots in\n",
    "# f(x) = 1.01x^2 - 3.04x + 2.07\n",
    "f = lambda x: (1.01 * x ** 2) - (3.04 * x) + 2.07\n",
    "\n",
    "# each root will be between 2 points of the function\n",
    "\n",
    "# sets two points on function to be x = 0.5 and x = 1.5 and sets tolerance to within 1 * 10^-6 of y = 0\n",
    "# then displays the roots\n",
    "print(\"1st Root\")\n",
    "bisection_method(f, 0.5, 1.5, 10**(-6))\n",
    "\n",
    "# same as above, but sets 2nd pair of points to be x = 1.5 and x = 2.5\n",
    "print(\"2nd Root\")\n",
    "bisection_method(f, 1.5, 2.5, 10**(-6))"
   ]
  },
  {
   "cell_type": "markdown",
   "id": "9ae46ea7",
   "metadata": {},
   "source": [
    "## How Many Iterations?"
   ]
  },
  {
   "cell_type": "code",
   "execution_count": null,
   "id": "d961f15d",
   "metadata": {},
   "outputs": [],
   "source": [
    "# sets show_iterations for both roots to be true so it can be displayed\n",
    "print(\"1st Root:\")\n",
    "roots1 = bisection_method(f, 0.5, 1.5, 10**(-6), True)\n",
    "\n",
    "print(\"2nd Root:\")\n",
    "roots2 = bisection_method(f, 1.5, 2.5, 10**(-6), True)"
   ]
  },
  {
   "cell_type": "markdown",
   "id": "b3bec347",
   "metadata": {},
   "source": [
    "## Displaying the Resulting Plot"
   ]
  },
  {
   "cell_type": "code",
   "execution_count": null,
   "id": "92fa2b3c",
   "metadata": {},
   "outputs": [],
   "source": [
    "# graphs the plot at 1000 evenly spaced points between x = 0 and x = 3\n",
    "x=np.linspace(0, 3, 1000)\n",
    "# plots the line y = 0\n",
    "plt.plot([0, 3], [0, 0], 'k')\n",
    "plt.plot(x, f(x))     #plot the function\n",
    "plt.plot(roots1, np.zeros(len(roots1)), 'or')   #plot roots\n",
    "plt.plot(roots2, np.zeros(len(roots2)), 'og')   #plot roots\n",
    "# sets the range of the plot on the x-axis from 0 to 3 and the y-axis from -0.5 to 2.1\n",
    "plt.xlim(0, 3)\n",
    "plt.ylim(-0.5, 2.1)\n",
    "# shows the plot\n",
    "plt.show()"
   ]
  }
 ],
 "metadata": {
  "kernelspec": {
   "display_name": "Python 3",
   "language": "python",
   "name": "python3"
  },
  "language_info": {
   "codemirror_mode": {
    "name": "ipython",
    "version": 3
   },
   "file_extension": ".py",
   "mimetype": "text/x-python",
   "name": "python",
   "nbconvert_exporter": "python",
   "pygments_lexer": "ipython3",
   "version": "3.8.8"
  }
 },
 "nbformat": 4,
 "nbformat_minor": 5
}
