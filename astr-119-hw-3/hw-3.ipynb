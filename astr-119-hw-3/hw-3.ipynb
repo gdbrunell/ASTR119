{
 "cells": [
  {
   "cell_type": "markdown",
   "id": "35dcd72b",
   "metadata": {},
   "source": [
    "## Setup"
   ]
  },
  {
   "cell_type": "code",
   "execution_count": null,
   "id": "9cc89db8",
   "metadata": {},
   "outputs": [],
   "source": [
    "# imports numpy and matplotlib\n",
    "import numpy as np\n",
    "import matplotlib.pyplot as plt"
   ]
  },
  {
   "cell_type": "markdown",
   "id": "ca2020be",
   "metadata": {},
   "source": [
    "## What is Being Plotted"
   ]
  },
  {
   "cell_type": "code",
   "execution_count": null,
   "id": "e703ee4b",
   "metadata": {},
   "outputs": [],
   "source": [
    "# creates an array x with 1000 equally spaced values from 0 to 2*pi\n",
    "x = np.linspace(0, 2 * np.pi, 1000)\n",
    "\n",
    "# defines the three functions\n",
    "y1 = (5.5 * np.cos(2 * x)) + 5.5\n",
    "y2 = 0.02 * np.exp(x)\n",
    "y3 = (0.25 * x ** 2) + (0.1 * np.sin(10 * x))"
   ]
  },
  {
   "cell_type": "markdown",
   "id": "c1153b23",
   "metadata": {},
   "source": [
    "## Creating the Plot"
   ]
  },
  {
   "cell_type": "code",
   "execution_count": null,
   "id": "1708cd38",
   "metadata": {},
   "outputs": [],
   "source": [
    "# plots the three functions\n",
    "plt.plot(x, y1)\n",
    "plt.plot(x, y2)\n",
    "plt.plot(x, y3)\n",
    "\n",
    "# sets range of plot on the x-axis from 0 to 2*pi and the y-axis from -1 to 10\n",
    "plt.xlim(0, 2 * np.pi)\n",
    "plt.ylim(-1, 10)\n",
    "\n",
    "# labels axes\n",
    "plt.ylabel(\"Measures of Awesomeness\")\n",
    "plt.xlabel(\"Time in ASTR 119\")\n",
    "\n",
    "# shows the resulting plot\n",
    "plt.show()"
   ]
  }
 ],
 "metadata": {
  "kernelspec": {
   "display_name": "Python 3",
   "language": "python",
   "name": "python3"
  },
  "language_info": {
   "codemirror_mode": {
    "name": "ipython",
    "version": 3
   },
   "file_extension": ".py",
   "mimetype": "text/x-python",
   "name": "python",
   "nbconvert_exporter": "python",
   "pygments_lexer": "ipython3",
   "version": "3.8.8"
  }
 },
 "nbformat": 4,
 "nbformat_minor": 5
}
