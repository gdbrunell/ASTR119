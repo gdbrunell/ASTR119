{
 "cells": [
  {
   "cell_type": "markdown",
   "id": "5d241634",
   "metadata": {},
   "source": [
    "## Setup"
   ]
  },
  {
   "cell_type": "code",
   "execution_count": null,
   "id": "1d9c0947",
   "metadata": {},
   "outputs": [],
   "source": [
    "# imports\n",
    "import numpy as np\n",
    "import matplotlib.pyplot as plt\n",
    "import math\n",
    "%matplotlib inline\n",
    "\n",
    "p = math.pi\n",
    "\n",
    "# defines the function to be integrated\n",
    "# e^(-2x)*cos(10x)\n",
    "def func(x):\n",
    "    # e^(-2x)*cos(10x)\n",
    "    return math.e ** (-2 * x) * math.cos(10 * x)\n",
    "\n",
    "# defines the actual value of the integral\n",
    "# (1/52)-(e^(-2))\n",
    "def func_integral(x):\n",
    "    return (1 / 52) - (math.e ** (-2 * p) / 52)"
   ]
  },
  {
   "cell_type": "markdown",
   "id": "ad919dc1",
   "metadata": {},
   "source": [
    "## Trapezoid Method"
   ]
  },
  {
   "cell_type": "code",
   "execution_count": null,
   "id": "f934ca84",
   "metadata": {},
   "outputs": [],
   "source": [
    "# defines core of trapezoid method\n",
    "def trapezoid_core(f, x, h):\n",
    "    return 0.5 * h * (f(x + h) + f(x))\n",
    "\n",
    "# f is the function\n",
    "# a is the lower integration limit\n",
    "# b is the upper integration limit\n",
    "# N is how many times the function is evaluated\n",
    "def trapezoid_method(f, a, b, N):\n",
    "    \n",
    "    # defines the bounds of integration to be from x = 0 to x = pi\n",
    "    x = np.linspace(a, b, N)\n",
    "    h = x[math.pi]-x[0]\n",
    "    \n",
    "    # define value of the integral\n",
    "    Fint = 0.0\n",
    "    \n",
    "    # perform the integral using the trapezoid method\n",
    "    for i in range(0, len(x) - 1, p):\n",
    "        Fint += trapezoid_core(f, x[i], h)\n",
    "    \n",
    "    # returns the answer\n",
    "    return Fint"
   ]
  },
  {
   "cell_type": "markdown",
   "id": "c6c94496",
   "metadata": {},
   "source": [
    "## Simpson's Method"
   ]
  },
  {
   "cell_type": "code",
   "execution_count": null,
   "id": "98052161",
   "metadata": {},
   "outputs": [],
   "source": [
    "# formula for simpson's method\n",
    "# h(f(x)+4f(x+h)+f(x+2h))/3\n",
    "def simpson_core(f, x, h):\n",
    "    return h * (f(x) + 4 * f(x + h) + f(x + 2 * h)) / 3\n",
    "\n",
    "def simpsons_method(f, a, b, N):\n",
    "    \n",
    "    # defines the bounds of integration to be from x = 0 to x = pi\n",
    "    x = np.linspace(a, b, N)\n",
    "    h = x[math.pi]-x[0]\n",
    "    \n",
    "    # define value of the integral\n",
    "    Fint = 0.0\n",
    "    \n",
    "    # perform the integral using the trapezoid method\n",
    "    for i in range(0, len(x) - 1, p):\n",
    "        Fint += simpson_core(f, x[i], h)\n",
    "    \n",
    "    # apply simpson's rule over last interval if N is even\n",
    "    if((N%2) == 0):\n",
    "        Fint += simpson_core(f, x[-2], 0.5 * h)\n",
    "        \n",
    "    # returns the answer\n",
    "    return Fint"
   ]
  },
  {
   "cell_type": "markdown",
   "id": "22013163",
   "metadata": {},
   "source": [
    "## Romberg Method"
   ]
  },
  {
   "cell_type": "code",
   "execution_count": null,
   "id": "49a6a8fe",
   "metadata": {},
   "outputs": [],
   "source": [
    "def romberg_core(f, a, b, i):\n",
    "    # calculates difference of a from b\n",
    "    h = b - a\n",
    "    \n",
    "    # calculates the increment between new function evaluation\n",
    "    dh = h / 2.** (i)\n",
    "    \n",
    "    # calculates the cofactor\n",
    "    K = h / 2.** (i + 1)\n",
    "    \n",
    "    M = 0.0\n",
    "    for j in range(2 ** i):\n",
    "        M += f(a + 0.5 * dh + j * dh)\n",
    "        \n",
    "    # returns the answer\n",
    "    return K * M\n",
    "\n",
    "# wrapper function\n",
    "def romberg_integration(f, a, b, tol):\n",
    "    \n",
    "    # defines interation variable as 0\n",
    "    i = 0\n",
    "    \n",
    "    # defines maximum number of iterations as 1000\n",
    "    imax = 1000\n",
    "    \n",
    "    # defines error estimate and sets as large value\n",
    "    delta = 100.0 * np.fabs(tol)\n",
    "    \n",
    "    # sets an array of integral answers\n",
    "    I = np.zeros(imax, dtype = float)\n",
    "    \n",
    "    # gets zeroth romberg iteration\n",
    "    I[0] = 0.5 * (b - a) * (f(a) + f(b))\n",
    "    \n",
    "    # iterates by 1\n",
    "    i += 1\n",
    "    \n",
    "    while(delta > tol):\n",
    "        \n",
    "        # find this romberg iteration\n",
    "        I[i] = 0.5 * I[i - 1] + romberg_core(f, a, b, i)\n",
    "        \n",
    "        # compute the new fractional error estimate\n",
    "        delta = np.fabs( (I[i] - I[i - 1] ) / I[i] )\n",
    "        \n",
    "        print(i, I[i], I[i - 1], delta)\n",
    "        \n",
    "        if(delta > tol):\n",
    "            \n",
    "            # iterates\n",
    "            i += i\n",
    "            \n",
    "            # stops iterating once the max number of iterations has been reached\n",
    "            if(i > max):\n",
    "                print(\"Max iterations reached.\")\n",
    "                raise stopIteration('Stopping Iterations after ', i)\n",
    "    \n",
    "    # returns the answer\n",
    "    return I[i]"
   ]
  },
  {
   "cell_type": "markdown",
   "id": "2a131cd3",
   "metadata": {},
   "source": [
    "## Checking the Integrals"
   ]
  },
  {
   "cell_type": "code",
   "execution_count": null,
   "id": "5b2f6291",
   "metadata": {},
   "outputs": [],
   "source": [
    "Answer = func_integral(p) - func_integral(0)  # sets bounds of integration as 0 to pi\n",
    "print(Answer)\n",
    "\n",
    "# prints result of trapezoid method\n",
    "print(\"Trapezoid\")\n",
    "print(trapezoid_method(func, 0, p, 10))\n",
    "\n",
    "# prints result of Simpson method\n",
    "print(\"Simpson's method\")\n",
    "print(simpsons_method(func, 0, p, 10))\n",
    "\n",
    "# prints result of Romberg method\n",
    "print(\"Romberg\")\n",
    "tolerance = 1.0e-6  # sets tolerance to be 1.0 * 10^-6\n",
    "RI = romberg_iteration(func, 0, 1, tolerance)\n",
    "print(RI, (RI - Answer) / Answer, tolerance)"
   ]
  }
 ],
 "metadata": {
  "kernelspec": {
   "display_name": "Python 3",
   "language": "python",
   "name": "python3"
  },
  "language_info": {
   "codemirror_mode": {
    "name": "ipython",
    "version": 3
   },
   "file_extension": ".py",
   "mimetype": "text/x-python",
   "name": "python",
   "nbconvert_exporter": "python",
   "pygments_lexer": "ipython3",
   "version": "3.8.8"
  }
 },
 "nbformat": 4,
 "nbformat_minor": 5
}
